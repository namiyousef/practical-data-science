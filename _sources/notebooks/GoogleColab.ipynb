{
 "cells": [
  {
   "cell_type": "markdown",
   "id": "bbffdc4b",
   "metadata": {},
   "source": [
    "# Google Colab\n",
    "\n",
    "Colab is a great tools for Deep Learning, as it comes with a GPU free for use. This makes it excellent for testing training and inference loops before using a cluster compute service."
   ]
  },
  {
   "cell_type": "markdown",
   "id": "48a993fa",
   "metadata": {},
   "source": [
    "## Making the best use of the GPU\n",
    "\n",
    "- content being worked on..."
   ]
  },
  {
   "cell_type": "markdown",
   "id": "fc99adeb",
   "metadata": {},
   "source": [
    "## Working with GitHub\n",
    "\n",
    "- content is being worked on"
   ]
  },
  {
   "cell_type": "markdown",
   "id": "fab7b0a1",
   "metadata": {},
   "source": [
    "## Working with Private Packages\n",
    "\n",
    "One of the disadvantages that comes with Google Colab, as compared with Jupyter Notebooks, is that you can't install a custom kernel. This means that you need to install all the packages you need every single time. For most cases, this isn't a particular issue and is only a minor inconvenience. All you need to do is to use `pip install` within the notebook:\n",
    "\n",
    "```python\n",
    "!pip install package\n",
    "```\n",
    "However, all this fails if you are working with private packages. That is, a package that you are developing on a private repository. This is because `pip` no longer works as you need authentication. Without it, this meant only 2 ways of running private code on Colab:\n",
    "\n",
    "**1) Copy paste all the code into Colab:** This only works for small projects (e.g. with 1 or 2 small files). It is NOT recommended because it makes the notebook long and messy; It makes versioning really difficult; and almost any change will require a complete refactoring of the base code.\n",
    "\n",
    "**2) Zip the package and unzip on Colab:** While this works great for a single user, it becomes very difficult to maintain when working in a team. The zip file can get easily misplaced, misnamed, and versioning is almost impossible. This makes it difficult to reproduce results and debug code should something go wrong.\n",
    "\n",
    "Since both methods are inadequate, one must consider authenticating GitHub. However this is no longer a trivial task since their decision to require token authentication[[1]](#1), effectively preventing users from being able to use password authentication. This leaves only two authentication methods: ssh and auth-token. The former is a pain if using Colab, since you need to add the key to the Colab session each time. The auth-token method is better, but it also requires copy pasting. This can be problematic because:\n",
    "\n",
    "1. You risk exposing the key each time you copy paste it\n",
    "2. You risk leaving it in the notebook and thus exposing it on Notebook push\n",
    "3. It is just annoying…\n",
    "\n",
    "The solution I propose is to therefore store the access token on your personal drive, and then read it from there each time, but make sure that the reading is abstracted away by some code. This way, you never explicitly read it, thus removing risk 2). You also never need to copy paste anything, thus removing 1). Finally, the process is very streamlined so you can be sure you won't get frustrated by 3). This is shown in the diagram below.\n",
    "\n",
    "![private_packages](../images/notebooks/private_repo_diagram.png)\n",
    "\n",
    "### Solution\n",
    "\n",
    "```python\n",
    "\n",
    "# install the package\n",
    "!pip install colab-dev-tools\n",
    "\n",
    "# imports\n",
    "import os\n",
    "from colabtools.utils import mount_drive, install_private_library\n",
    "\n",
    "# get path to Drive root, e.g. drive/MyDrive/\n",
    "drive_path = mount_drive()\n",
    "\n",
    "# get path to the access token\n",
    "git_access_token_json_path = os.path.join(drive_path, PATH_TO_JSON)\n",
    "\n",
    "# install using pip install git+https://{access_token}@github.com/{username}/{repo_name}.git\n",
    "install_private_library(git_access_token_json_path, PROJECT_NAME)\n",
    "\n",
    "```\n",
    "\n",
    "\n",
    "### Other Considerations\n",
    "\n",
    "- Make sure your drive is only accessible to you; this decreases the chances of your access token getting leaked.\n",
    "- Note that the functions in the package only abstract away the code. They don't encrypt your access token key in any away.\n",
    "- One disadvantage this method has is that the path to your Access Token will be visible in the Notebook. This means that if an attacker does get access to your drive, they will be able to easily locate your Access Token json. As such, it might be a good idea to remove the path each time you push your notebook to Github."
   ]
  },
  {
   "cell_type": "markdown",
   "id": "532ea191",
   "metadata": {},
   "source": [
    "## A note on Colab Pro and Colab Pro+"
   ]
  },
  {
   "cell_type": "markdown",
   "id": "cc5aa9a4",
   "metadata": {},
   "source": [
    "# References\n",
    "\n",
    "<a id=\"1\">[1]</a>\n",
    "Langlois M. (2020). _Token authentication requirements for Git operations_. URL: https://github.blog/2020-12-15-token-authentication-requirements-for-git-operations/"
   ]
  }
 ],
 "metadata": {
  "kernelspec": {
   "display_name": "practical-data-science",
   "language": "python",
   "name": "practical-data-science"
  },
  "language_info": {
   "codemirror_mode": {
    "name": "ipython",
    "version": 3
   },
   "file_extension": ".py",
   "mimetype": "text/x-python",
   "name": "python",
   "nbconvert_exporter": "python",
   "pygments_lexer": "ipython3",
   "version": "3.7.0"
  }
 },
 "nbformat": 4,
 "nbformat_minor": 5
}

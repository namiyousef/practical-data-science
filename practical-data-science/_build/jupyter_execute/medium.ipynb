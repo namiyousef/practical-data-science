{
 "cells": [
  {
   "cell_type": "markdown",
   "id": "fa2bf4e8",
   "metadata": {},
   "source": [
    "# This article was written on Jupyter Notebook\n",
    "## A brief introduction to jupyter-book and jupyter_to_medium"
   ]
  },
  {
   "cell_type": "markdown",
   "id": "a7e11abd",
   "metadata": {},
   "source": [
    "For the longest time, I've kept notes locally on Apple Pages. To that end, I have no complaints. Pages is an amazing piece of software that allows you to quickly produce high quality documents (with really great diagrams and tables) in a fraction of the time it would take on Overleaf, Word or Google Docs.\n",
    "\n",
    "However, there have been a couple of things that have always annoyed me about it:\n",
    "- Versionining is not possible\n",
    "- The documents cannot be easily shared\n",
    "- Documenting code is really hard\n",
    "\n",
    "These aren't unique to Pages either. Word, Docs and Overleaf suffer from the same problems for the most part. None of these tools are great for continuously updating shared notes, creating documentation or incorporating code.\n",
    "\n",
    "The good news is that I've recently learnt how to use two new Python libraries that are going to help me greatly accelerate my notetaking and article writing. These are `jupyter-book` and `jupyter_to_medium`.\n",
    "\n",
    "In this article (which I happen to be writing on a Jupyter Notebook!) I will explain how you can use both tools to accelerate notetaking and writing articles."
   ]
  },
  {
   "cell_type": "markdown",
   "id": "5edbea37",
   "metadata": {},
   "source": [
    "## What is `jupyter_to_medium`?\n",
    "\n",
    "`jupyter_to_medium` is a Python package that allows you to directly deploy your Jupyter Notebook articles to Medium. This is useful if you typically base most of your articles on content from Jupyter Notebooks. I've been curious about this package for a while, but I've only just gotten round to experimenting with it... let's see what it can do! If things go well I may strongly consider using it as the main source of my articles.\n",
    "\n",
    "### Installation"
   ]
  },
  {
   "cell_type": "code",
   "execution_count": 1,
   "id": "27acbf50",
   "metadata": {},
   "outputs": [],
   "source": [
    "%%capture\n",
    "\n",
    "# install jupyter_to_medium\n",
    "!pip install jupyter_to_medium"
   ]
  },
  {
   "cell_type": "markdown",
   "id": "a8c47c0c",
   "metadata": {},
   "source": [
    "For most people, doing this should give you access to a 'deploy' button under File within your Jupyter notebook.\n",
    "\n",
    "If not (like in my case) then you need to run ``"
   ]
  },
  {
   "cell_type": "markdown",
   "id": "bf7332b2",
   "metadata": {},
   "source": [
    "### Images\n",
    "\n",
    "### Links\n",
    "\n",
    "### Code"
   ]
  },
  {
   "cell_type": "markdown",
   "id": "557f86b1",
   "metadata": {},
   "source": [
    "## What is `jupyter-book`?\n",
    "\n",
    "`jupyter-book` is a package that allows you to easily produce book like documents using markdown files and jupyter notebook files. For this reason, they are extremely flexible, and can allow you to quickly generate rich documents in a really short time. What's more, they can be integrated with GitHub Actions to enable CI/CD behaviour. If you are looking for a quick intallation of `jupyter-book` without any CI/CD features, just run:"
   ]
  },
  {
   "cell_type": "code",
   "execution_count": 2,
   "id": "4053c42c",
   "metadata": {},
   "outputs": [],
   "source": [
    " %%capture\n",
    "\n",
    "# install jupyter-book\n",
    "!pip install jupyter-book\n",
    "\n",
    "# create a book\n",
    "!jupyter-book create your_book_name"
   ]
  },
  {
   "cell_type": "markdown",
   "id": "13f8d970",
   "metadata": {},
   "source": [
    "This creates a book with the name `your_book_name` if your current working directory. The directory structure looks something like this:\n",
    "```yml\n",
    "your_book_name:\n",
    "    - _config.yml\n",
    "    - _toc.yml\n",
    "    - intro.md\n",
    "    - logo.png\n",
    "    - markdown.md\n",
    "    - notebooks.ipynb\n",
    "    - references.bib\n",
    "    - requirements.txt\n",
    "```\n",
    "\n",
    "You can now work on your book by editing the .md or .ipynb files! You can even add your own files. Remember that the `_toc.yml` files contains the structure of your book, so make sure any books added there are correctly referenced.\n",
    "\n",
    "For more, visit the jupyter-book official documentation [here](https://jupyterbook.org/intro.html).\n",
    "\n",
    "Note that the `%%capture` magic command is added to prevent the installation outputs from being printed.\n",
    "\n"
   ]
  },
  {
   "cell_type": "markdown",
   "id": "550968d8",
   "metadata": {},
   "source": [
    "### Installation using cookiecutter\n",
    "\n",
    "My preferred way of installing `jupyter-book` is through `cookiecutter`. This method comes with extra files that interface with GitHub Actions to enable CI/CD on the project. To install using this method, first make sure you have `cookiecutter` installed:"
   ]
  },
  {
   "cell_type": "code",
   "execution_count": 3,
   "id": "cb7016f8",
   "metadata": {},
   "outputs": [],
   "source": [
    "%%capture\n",
    "\n",
    "# install cookiecutter\n",
    "!pip install -U cookiecutter"
   ]
  },
  {
   "cell_type": "markdown",
   "id": "58c568d9",
   "metadata": {},
   "source": [
    "Then, use the following cookiecutter command to download the latest jupyter-book configuration:"
   ]
  },
  {
   "cell_type": "code",
   "execution_count": 4,
   "id": "69c642d9",
   "metadata": {},
   "outputs": [],
   "source": [
    "%%capture\n",
    "\n",
    "!cookiecutter git@github.com:executablebooks/cookiecutter-jupyter-book.git"
   ]
  },
  {
   "cell_type": "markdown",
   "id": "34804c5d",
   "metadata": {},
   "source": [
    "This then allows you to add some metadata about your project, such as the title, the author name, the license etc. In particular, I want to bring your attention to `book_slug` and `select include_ci_files`. For the former, it is the name of your project for download purposes, e.g. if you wanted to run `pip install project`. I have not used this feature yet, however I'm mentioning it in case you are interested in learning more about it. See [this](https://github.com/audreyfeldroy/cookiecutter-pypackage/issues/487) GitHub issue for a thread on what a slug is in `cookiecutter`. \n",
    "\n",
    "The more interesting tag is `select include_ci_files`. Selecting 1 will download CI/CD configurations for GitHub (whereas 2 will download that for GitLab). I'll be going through what this does for GitHub."
   ]
  },
  {
   "cell_type": "markdown",
   "id": "93a606e5",
   "metadata": {},
   "source": [
    "### CI/CD files\n",
    "\n",
    "Cookiecutter automatically adds a hidden folder called `.github` which contains a .yml file `workflows/deploy.yml`. It's contents are used by GitHub to trigger tests and deployments when you make changes to your project. By default, it is configured to look for changes to your main branch on GitHub. If changes are detected, then it runs some tests on an ubuntu environment with a specified version of Python. These include dependency installation (e.g. from `requirements.txt`) and also which folders to monitor for new builds of your project."
   ]
  },
  {
   "cell_type": "code",
   "execution_count": 11,
   "id": "7b250b74",
   "metadata": {},
   "outputs": [
    {
     "name": "stdout",
     "output_type": "stream",
     "text": [
      "Pandas import failed.\n"
     ]
    }
   ],
   "source": [
    "# test import pandas\n",
    "try:\n",
    "    import pandas\n",
    "    print('Pandas import successful.')\n",
    "except:\n",
    "    print('Pandas import failed.')"
   ]
  },
  {
   "cell_type": "markdown",
   "id": "7a258c95",
   "metadata": {},
   "source": [
    "Since I am running locally, I see 'Pandas import failed.' above, because I'm in an environment that is not using Pandas. However, the requirements file for the project does have pandas in it. This means that the published version of this page (see [here](https://namiyousef.github.io/practical-data-science/medium.html)). Should actually output a different message."
   ]
  },
  {
   "cell_type": "markdown",
   "id": "c2bcfc68",
   "metadata": {},
   "source": [
    "### Pushing to GitHub\n",
    "\n",
    "In order to publish your notebook to GitHub, first activate GitHub pages by following instructions [here](https://pages.github.com). Once that's done, you'll have a repository `{your_github_username}.github.io` that points to a webpage with that same name. Now, any new project you create can have a webpage associated with it at `{your_github_username}.github.io/project_name`.\n",
    "\n",
    "You can thus host your book on GitHub under a project name. So, create a new repository for your project, then push all of the files within `your_book_name` (note: not the one created earlier, but rather the one created using cookiecutter) to it. On the GitHub repo, make sure you create an empty `gh-pages` branch (this is branch that GitHub actions will push the contents of your book to), and to point the location of your project GitHub pages to this branch (this can be done by going into your project repo settings, then into pages and then enabling the feature and pointing the directory to gh-pages root)."
   ]
  },
  {
   "cell_type": "code",
   "execution_count": 13,
   "id": "feb9b68c",
   "metadata": {},
   "outputs": [
    {
     "name": "stdout",
     "output_type": "stream",
     "text": [
      "__init__.py        content.md         jb_logs.txt        medium.ipynb\r\n",
      "\u001b[34m_build\u001b[m\u001b[m             \u001b[34mimages\u001b[m\u001b[m             logo.png           notebooks.ipynb\r\n",
      "_config.yml        intro.md           logs.txt           references.bib\r\n",
      "_toc.yml           jb_create_logs.txt markdown.md\r\n"
     ]
    }
   ],
   "source": []
  },
  {
   "cell_type": "markdown",
   "id": "3986830d",
   "metadata": {},
   "source": [
    "### Making Changes\n",
    "\n",
    "Once your project is linked to GitHub, any new commits to the project will trigger the GitHub action. This will automatically run some tests on GitHub. \n",
    "\n",
    "On your latest commit, you'll be able to see an orange dot that indicates that tests are being run. After this is complete, you will either get a cross or a tick. \n",
    "\n",
    "\n",
    "![cross](images/cross.png)\n",
    "![tick](images/tick.png)\n",
    "\n",
    "This indicates whether the test was successful or not. If not, you will need to look into the logs of the test. Remember that the details of the tests run are found in `.github/workflows/deploy.yml` so it's always a good to start there.\n",
    "\n",
    "If successful, then your project will be deployed on GitHub pages!\n",
    "You can see on the side of your repository for the latest build and visit it from there:\n",
    "\n",
    "![gh-pages](images/gh-pages.png)"
   ]
  },
  {
   "cell_type": "markdown",
   "id": "172351fa",
   "metadata": {},
   "source": [
    "### Features\n",
    "\n",
    "Jupyter Notebook is "
   ]
  },
  {
   "cell_type": "markdown",
   "id": "b2be1586",
   "metadata": {},
   "source": [
    "## Thoughts and Takeaways\n",
    "\n",
    "Personally, I don't usually write my articles from Jupyter Notebooks. I really like the clear split of running expeirments on Jupyter (or usually just Python) and then writing an article with a clear narrative in mind in order to make it appealing to the reader.\n",
    "\n",
    "Thoughts on jupyter_to_medium in general?\n",
    "\n",
    "So going forward, I don't think I'll be using `jupyter_to_medium` much, if at all.\n",
    "\n",
    "On the other hand, `jupyter-book` seems extremely promising. I am quite fond of it so far, and I think I'll start notetaking there as opposed to locally, while slowly starting to migrate my older content.\n"
   ]
  }
 ],
 "metadata": {
  "kernelspec": {
   "display_name": "Python 3",
   "language": "python",
   "name": "python3"
  },
  "language_info": {
   "codemirror_mode": {
    "name": "ipython",
    "version": 3
   },
   "file_extension": ".py",
   "mimetype": "text/x-python",
   "name": "python",
   "nbconvert_exporter": "python",
   "pygments_lexer": "ipython3",
   "version": "3.7.6"
  }
 },
 "nbformat": 4,
 "nbformat_minor": 5
}
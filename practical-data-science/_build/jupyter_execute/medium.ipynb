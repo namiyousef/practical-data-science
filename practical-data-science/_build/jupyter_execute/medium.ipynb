{
 "cells": [
  {
   "cell_type": "markdown",
   "id": "fa2bf4e8",
   "metadata": {},
   "source": [
    "# This article was written on Jupyter Notebook\n",
    "## A brief introduction to jupyter-book and jupyter_to_medium"
   ]
  },
  {
   "cell_type": "markdown",
   "id": "a7e11abd",
   "metadata": {},
   "source": [
    "For the longest time, I've kept notes locally on Apple Pages. To that end, I have no complaints. Pages is an amazing piece of software that allows you to quickly produce high quality documents (with really great diagrams and tables) in a fraction of the time it would take on Overleaf, Word or Google Docs.\n",
    "\n",
    "However, there have been a couple of things that have always annoyed me about it:\n",
    "- Versionining is not possible\n",
    "- The documents cannot be easily shared\n",
    "- Documenting code is really hard\n",
    "\n",
    "These aren't unique to Pages either. Word, Docs and Overleaf suffer from the same problems for the most part. None of these tools are great for continuously updating shared notes, creating documentation or incorporating code.\n",
    "\n",
    "The good news is that I've recently learnt how to use two new Python libraries that are going to help me greatly accelerate my notetaking and article writing. These are `jupyter-book` and `jupyter_to_medium`.\n",
    "\n",
    "In this article (which I happen to be writing on a Jupyter Notebook!) I will explain how you can use both tools to accelerate notetaking and writing articles."
   ]
  },
  {
   "cell_type": "markdown",
   "id": "5edbea37",
   "metadata": {},
   "source": [
    "## What is `jupyter_to_medium`?\n",
    "\n",
    "`jupyter_to_medium` is a Python package that allows you to directly deploy your Jupyter Notebook articles to Medium. This is useful if you typically base most of your articles on content from Jupyter Notebooks. I've been curious about this package for a while, but I've only just gotten round to experimenting with it... let's see what it can do! If things go well I may strongly consider using it as the main source of my articles.\n",
    "\n",
    "### Installation\n",
    "\n",
    "### Images\n",
    "\n",
    "### Links\n",
    "\n",
    "### Code"
   ]
  },
  {
   "cell_type": "markdown",
   "id": "557f86b1",
   "metadata": {},
   "source": [
    "## What is `jupyter-book`?\n",
    "\n",
    "`jupyter-book` is a package that allows you to easily produce book like documents using markdown files and jupyter notebook files. For this reason, they are extremely flexible, and can allow you to quickly generate rich documents in a really short time. What's more, they can be integrated with GitHub Actions to enable CI/CD behaviour. If you are looking for a quick intallation of `jupyter-book` without any CI/CD features, just run:"
   ]
  },
  {
   "cell_type": "code",
   "execution_count": 1,
   "id": "4053c42c",
   "metadata": {},
   "outputs": [
    {
     "name": "stdout",
     "output_type": "stream",
     "text": [
      "Requirement already satisfied: jupyter-book in /Users/yousefnami/python_environments/TEST/lib/python3.7/site-packages (0.12.1)\r\n"
     ]
    },
    {
     "name": "stdout",
     "output_type": "stream",
     "text": [
      "Requirement already satisfied: click~=7.1 in /Users/yousefnami/python_environments/TEST/lib/python3.7/site-packages (from jupyter-book) (7.1.2)\r\n",
      "Requirement already satisfied: sphinx<5,>=3 in /Users/yousefnami/python_environments/TEST/lib/python3.7/site-packages (from jupyter-book) (4.4.0)\r\n",
      "Requirement already satisfied: sphinx-thebe~=0.0.10 in /Users/yousefnami/python_environments/TEST/lib/python3.7/site-packages (from jupyter-book) (0.0.10)\r\n",
      "Requirement already satisfied: docutils<0.18,>=0.15 in /Users/yousefnami/python_environments/TEST/lib/python3.7/site-packages (from jupyter-book) (0.16)\r\n",
      "Requirement already satisfied: linkify-it-py~=1.0.1 in /Users/yousefnami/python_environments/TEST/lib/python3.7/site-packages (from jupyter-book) (1.0.3)\r\n",
      "Requirement already satisfied: pyyaml in /Users/yousefnami/python_environments/TEST/lib/python3.7/site-packages (from jupyter-book) (6.0)\r\n",
      "Requirement already satisfied: sphinx-book-theme~=0.1.4 in /Users/yousefnami/python_environments/TEST/lib/python3.7/site-packages (from jupyter-book) (0.1.10)\r\n",
      "Requirement already satisfied: sphinx-togglebutton in /Users/yousefnami/python_environments/TEST/lib/python3.7/site-packages (from jupyter-book) (0.2.3)\r\n",
      "Requirement already satisfied: sphinxcontrib-bibtex~=2.2.0 in /Users/yousefnami/python_environments/TEST/lib/python3.7/site-packages (from jupyter-book) (2.2.1)\r\n",
      "Requirement already satisfied: sphinx-multitoc-numbering~=0.1.3 in /Users/yousefnami/python_environments/TEST/lib/python3.7/site-packages (from jupyter-book) (0.1.3)\r\n",
      "Requirement already satisfied: jsonschema<4 in /Users/yousefnami/python_environments/TEST/lib/python3.7/site-packages (from jupyter-book) (3.2.0)\r\n",
      "Requirement already satisfied: sphinx-external-toc~=0.2.3 in /Users/yousefnami/python_environments/TEST/lib/python3.7/site-packages (from jupyter-book) (0.2.3)\r\n",
      "Requirement already satisfied: sphinx-jupyterbook-latex~=0.4.6 in /Users/yousefnami/python_environments/TEST/lib/python3.7/site-packages (from jupyter-book) (0.4.6)\r\n",
      "Requirement already satisfied: myst-nb~=0.13.1 in /Users/yousefnami/python_environments/TEST/lib/python3.7/site-packages (from jupyter-book) (0.13.1)\r\n",
      "Requirement already satisfied: sphinx-copybutton in /Users/yousefnami/python_environments/TEST/lib/python3.7/site-packages (from jupyter-book) (0.4.0)\r\n",
      "Requirement already satisfied: sphinx-panels~=0.6.0 in /Users/yousefnami/python_environments/TEST/lib/python3.7/site-packages (from jupyter-book) (0.6.0)\r\n",
      "Requirement already satisfied: jupytext<1.12,>=1.11.2 in /Users/yousefnami/python_environments/TEST/lib/python3.7/site-packages (from jupyter-book) (1.11.5)\r\n",
      "Requirement already satisfied: sphinx-comments in /Users/yousefnami/python_environments/TEST/lib/python3.7/site-packages (from jupyter-book) (0.0.3)\r\n"
     ]
    },
    {
     "name": "stdout",
     "output_type": "stream",
     "text": [
      "Requirement already satisfied: six>=1.11.0 in /Users/yousefnami/python_environments/TEST/lib/python3.7/site-packages (from jsonschema<4->jupyter-book) (1.16.0)\r\n",
      "Requirement already satisfied: setuptools in /Users/yousefnami/python_environments/TEST/lib/python3.7/site-packages (from jsonschema<4->jupyter-book) (60.6.0)\r\n",
      "Requirement already satisfied: attrs>=17.4.0 in /Users/yousefnami/python_environments/TEST/lib/python3.7/site-packages (from jsonschema<4->jupyter-book) (21.4.0)\r\n",
      "Requirement already satisfied: importlib-metadata in /Users/yousefnami/python_environments/TEST/lib/python3.7/site-packages (from jsonschema<4->jupyter-book) (4.10.1)\r\n",
      "Requirement already satisfied: pyrsistent>=0.14.0 in /Users/yousefnami/python_environments/TEST/lib/python3.7/site-packages (from jsonschema<4->jupyter-book) (0.18.1)\r\n",
      "Requirement already satisfied: mdit-py-plugins in /Users/yousefnami/python_environments/TEST/lib/python3.7/site-packages (from jupytext<1.12,>=1.11.2->jupyter-book) (0.2.8)\r\n",
      "Requirement already satisfied: markdown-it-py~=1.0 in /Users/yousefnami/python_environments/TEST/lib/python3.7/site-packages (from jupytext<1.12,>=1.11.2->jupyter-book) (1.1.0)\r\n",
      "Requirement already satisfied: toml in /Users/yousefnami/python_environments/TEST/lib/python3.7/site-packages (from jupytext<1.12,>=1.11.2->jupyter-book) (0.10.2)\r\n",
      "Requirement already satisfied: nbformat in /Users/yousefnami/python_environments/TEST/lib/python3.7/site-packages (from jupytext<1.12,>=1.11.2->jupyter-book) (5.1.3)\r\n",
      "Requirement already satisfied: uc-micro-py in /Users/yousefnami/python_environments/TEST/lib/python3.7/site-packages (from linkify-it-py~=1.0.1->jupyter-book) (1.0.1)\r\n"
     ]
    },
    {
     "name": "stdout",
     "output_type": "stream",
     "text": [
      "Requirement already satisfied: ipywidgets<8,>=7.0.0 in /Users/yousefnami/python_environments/TEST/lib/python3.7/site-packages (from myst-nb~=0.13.1->jupyter-book) (7.6.5)\r\n",
      "Requirement already satisfied: myst-parser~=0.15.2 in /Users/yousefnami/python_environments/TEST/lib/python3.7/site-packages (from myst-nb~=0.13.1->jupyter-book) (0.15.2)\r\n",
      "Requirement already satisfied: nbconvert<7,>=5.6 in /Users/yousefnami/python_environments/TEST/lib/python3.7/site-packages (from myst-nb~=0.13.1->jupyter-book) (6.4.1)\r\n",
      "Requirement already satisfied: ipython in /Users/yousefnami/python_environments/TEST/lib/python3.7/site-packages (from myst-nb~=0.13.1->jupyter-book) (7.31.1)\r\n",
      "Requirement already satisfied: jupyter-cache~=0.4.1 in /Users/yousefnami/python_environments/TEST/lib/python3.7/site-packages (from myst-nb~=0.13.1->jupyter-book) (0.4.3)\r\n",
      "Requirement already satisfied: jupyter-sphinx~=0.3.2 in /Users/yousefnami/python_environments/TEST/lib/python3.7/site-packages (from myst-nb~=0.13.1->jupyter-book) (0.3.2)\r\n"
     ]
    },
    {
     "name": "stdout",
     "output_type": "stream",
     "text": [
      "Requirement already satisfied: sphinxcontrib-htmlhelp>=2.0.0 in /Users/yousefnami/python_environments/TEST/lib/python3.7/site-packages (from sphinx<5,>=3->jupyter-book) (2.0.0)\r\n",
      "Requirement already satisfied: requests>=2.5.0 in /Users/yousefnami/python_environments/TEST/lib/python3.7/site-packages (from sphinx<5,>=3->jupyter-book) (2.27.1)\r\n",
      "Requirement already satisfied: alabaster<0.8,>=0.7 in /Users/yousefnami/python_environments/TEST/lib/python3.7/site-packages (from sphinx<5,>=3->jupyter-book) (0.7.12)\r\n",
      "Requirement already satisfied: babel>=1.3 in /Users/yousefnami/python_environments/TEST/lib/python3.7/site-packages (from sphinx<5,>=3->jupyter-book) (2.9.1)\r\n",
      "Requirement already satisfied: Jinja2>=2.3 in /Users/yousefnami/python_environments/TEST/lib/python3.7/site-packages (from sphinx<5,>=3->jupyter-book) (3.0.3)\r\n",
      "Requirement already satisfied: snowballstemmer>=1.1 in /Users/yousefnami/python_environments/TEST/lib/python3.7/site-packages (from sphinx<5,>=3->jupyter-book) (2.2.0)\r\n",
      "Requirement already satisfied: Pygments>=2.0 in /Users/yousefnami/python_environments/TEST/lib/python3.7/site-packages (from sphinx<5,>=3->jupyter-book) (2.11.2)\r\n",
      "Requirement already satisfied: sphinxcontrib-jsmath in /Users/yousefnami/python_environments/TEST/lib/python3.7/site-packages (from sphinx<5,>=3->jupyter-book) (1.0.1)\r\n",
      "Requirement already satisfied: sphinxcontrib-devhelp in /Users/yousefnami/python_environments/TEST/lib/python3.7/site-packages (from sphinx<5,>=3->jupyter-book) (1.0.2)\r\n",
      "Requirement already satisfied: sphinxcontrib-serializinghtml>=1.1.5 in /Users/yousefnami/python_environments/TEST/lib/python3.7/site-packages (from sphinx<5,>=3->jupyter-book) (1.1.5)\r\n",
      "Requirement already satisfied: sphinxcontrib-qthelp in /Users/yousefnami/python_environments/TEST/lib/python3.7/site-packages (from sphinx<5,>=3->jupyter-book) (1.0.3)\r\n",
      "Requirement already satisfied: packaging in /Users/yousefnami/python_environments/TEST/lib/python3.7/site-packages (from sphinx<5,>=3->jupyter-book) (21.3)\r\n",
      "Requirement already satisfied: sphinxcontrib-applehelp in /Users/yousefnami/python_environments/TEST/lib/python3.7/site-packages (from sphinx<5,>=3->jupyter-book) (1.0.2)\r\n",
      "Requirement already satisfied: imagesize in /Users/yousefnami/python_environments/TEST/lib/python3.7/site-packages (from sphinx<5,>=3->jupyter-book) (1.3.0)\r\n"
     ]
    },
    {
     "name": "stdout",
     "output_type": "stream",
     "text": [
      "Requirement already satisfied: beautifulsoup4<5,>=4.6.1 in /Users/yousefnami/python_environments/TEST/lib/python3.7/site-packages (from sphinx-book-theme~=0.1.4->jupyter-book) (4.10.0)\r\n",
      "Requirement already satisfied: pydata-sphinx-theme~=0.7.2 in /Users/yousefnami/python_environments/TEST/lib/python3.7/site-packages (from sphinx-book-theme~=0.1.4->jupyter-book) (0.7.2)\r\n"
     ]
    },
    {
     "name": "stdout",
     "output_type": "stream",
     "text": [
      "Requirement already satisfied: importlib-resources in /Users/yousefnami/python_environments/TEST/lib/python3.7/site-packages (from sphinx-jupyterbook-latex~=0.4.6->jupyter-book) (5.4.0)\r\n"
     ]
    },
    {
     "name": "stdout",
     "output_type": "stream",
     "text": [
      "Requirement already satisfied: wheel in /Users/yousefnami/python_environments/TEST/lib/python3.7/site-packages (from sphinx-togglebutton->jupyter-book) (0.37.1)\r\n",
      "Requirement already satisfied: pybtex>=0.20 in /Users/yousefnami/python_environments/TEST/lib/python3.7/site-packages (from sphinxcontrib-bibtex~=2.2.0->jupyter-book) (0.24.0)\r\n",
      "Requirement already satisfied: pybtex-docutils>=1.0.0 in /Users/yousefnami/python_environments/TEST/lib/python3.7/site-packages (from sphinxcontrib-bibtex~=2.2.0->jupyter-book) (1.0.1)\r\n"
     ]
    },
    {
     "name": "stdout",
     "output_type": "stream",
     "text": [
      "Requirement already satisfied: pytz>=2015.7 in /Users/yousefnami/python_environments/TEST/lib/python3.7/site-packages (from babel>=1.3->sphinx<5,>=3->jupyter-book) (2021.3)\r\n",
      "Requirement already satisfied: soupsieve>1.2 in /Users/yousefnami/python_environments/TEST/lib/python3.7/site-packages (from beautifulsoup4<5,>=4.6.1->sphinx-book-theme~=0.1.4->jupyter-book) (2.3.1)\r\n",
      "Requirement already satisfied: zipp>=0.5 in /Users/yousefnami/python_environments/TEST/lib/python3.7/site-packages (from importlib-metadata->jsonschema<4->jupyter-book) (3.7.0)\r\n",
      "Requirement already satisfied: typing-extensions>=3.6.4 in /Users/yousefnami/python_environments/TEST/lib/python3.7/site-packages (from importlib-metadata->jsonschema<4->jupyter-book) (4.0.1)\r\n"
     ]
    },
    {
     "name": "stdout",
     "output_type": "stream",
     "text": [
      "Requirement already satisfied: ipykernel>=4.5.1 in /Users/yousefnami/python_environments/TEST/lib/python3.7/site-packages (from ipywidgets<8,>=7.0.0->myst-nb~=0.13.1->jupyter-book) (6.7.0)\r\n",
      "Requirement already satisfied: widgetsnbextension~=3.5.0 in /Users/yousefnami/python_environments/TEST/lib/python3.7/site-packages (from ipywidgets<8,>=7.0.0->myst-nb~=0.13.1->jupyter-book) (3.5.2)\r\n",
      "Requirement already satisfied: jupyterlab-widgets>=1.0.0 in /Users/yousefnami/python_environments/TEST/lib/python3.7/site-packages (from ipywidgets<8,>=7.0.0->myst-nb~=0.13.1->jupyter-book) (1.0.2)\r\n",
      "Requirement already satisfied: ipython-genutils~=0.2.0 in /Users/yousefnami/python_environments/TEST/lib/python3.7/site-packages (from ipywidgets<8,>=7.0.0->myst-nb~=0.13.1->jupyter-book) (0.2.0)\r\n",
      "Requirement already satisfied: traitlets>=4.3.1 in /Users/yousefnami/python_environments/TEST/lib/python3.7/site-packages (from ipywidgets<8,>=7.0.0->myst-nb~=0.13.1->jupyter-book) (5.1.1)\r\n"
     ]
    },
    {
     "name": "stdout",
     "output_type": "stream",
     "text": [
      "Requirement already satisfied: backcall in /Users/yousefnami/python_environments/TEST/lib/python3.7/site-packages (from ipython->myst-nb~=0.13.1->jupyter-book) (0.2.0)\r\n",
      "Requirement already satisfied: pexpect>4.3 in /Users/yousefnami/python_environments/TEST/lib/python3.7/site-packages (from ipython->myst-nb~=0.13.1->jupyter-book) (4.8.0)\r\n",
      "Requirement already satisfied: appnope in /Users/yousefnami/python_environments/TEST/lib/python3.7/site-packages (from ipython->myst-nb~=0.13.1->jupyter-book) (0.1.2)\r\n",
      "Requirement already satisfied: matplotlib-inline in /Users/yousefnami/python_environments/TEST/lib/python3.7/site-packages (from ipython->myst-nb~=0.13.1->jupyter-book) (0.1.3)\r\n",
      "Requirement already satisfied: prompt-toolkit!=3.0.0,!=3.0.1,<3.1.0,>=2.0.0 in /Users/yousefnami/python_environments/TEST/lib/python3.7/site-packages (from ipython->myst-nb~=0.13.1->jupyter-book) (3.0.26)\r\n",
      "Requirement already satisfied: pickleshare in /Users/yousefnami/python_environments/TEST/lib/python3.7/site-packages (from ipython->myst-nb~=0.13.1->jupyter-book) (0.7.5)\r\n",
      "Requirement already satisfied: decorator in /Users/yousefnami/python_environments/TEST/lib/python3.7/site-packages (from ipython->myst-nb~=0.13.1->jupyter-book) (5.1.1)\r\n",
      "Requirement already satisfied: jedi>=0.16 in /Users/yousefnami/python_environments/TEST/lib/python3.7/site-packages (from ipython->myst-nb~=0.13.1->jupyter-book) (0.18.1)\r\n",
      "Requirement already satisfied: MarkupSafe>=2.0 in /Users/yousefnami/python_environments/TEST/lib/python3.7/site-packages (from Jinja2>=2.3->sphinx<5,>=3->jupyter-book) (2.0.1)\r\n"
     ]
    },
    {
     "name": "stdout",
     "output_type": "stream",
     "text": [
      "Requirement already satisfied: nbclient<0.6,>=0.2 in /Users/yousefnami/python_environments/TEST/lib/python3.7/site-packages (from jupyter-cache~=0.4.1->myst-nb~=0.13.1->jupyter-book) (0.5.10)\r\n",
      "Requirement already satisfied: sqlalchemy<1.5,>=1.3.12 in /Users/yousefnami/python_environments/TEST/lib/python3.7/site-packages (from jupyter-cache~=0.4.1->myst-nb~=0.13.1->jupyter-book) (1.4.31)\r\n",
      "Requirement already satisfied: nbdime in /Users/yousefnami/python_environments/TEST/lib/python3.7/site-packages (from jupyter-cache~=0.4.1->myst-nb~=0.13.1->jupyter-book) (3.1.1)\r\n"
     ]
    },
    {
     "name": "stdout",
     "output_type": "stream",
     "text": [
      "Requirement already satisfied: mistune<2,>=0.8.1 in /Users/yousefnami/python_environments/TEST/lib/python3.7/site-packages (from nbconvert<7,>=5.6->myst-nb~=0.13.1->jupyter-book) (0.8.4)\r\n",
      "Requirement already satisfied: pandocfilters>=1.4.1 in /Users/yousefnami/python_environments/TEST/lib/python3.7/site-packages (from nbconvert<7,>=5.6->myst-nb~=0.13.1->jupyter-book) (1.5.0)\r\n",
      "Requirement already satisfied: testpath in /Users/yousefnami/python_environments/TEST/lib/python3.7/site-packages (from nbconvert<7,>=5.6->myst-nb~=0.13.1->jupyter-book) (0.5.0)\r\n",
      "Requirement already satisfied: jupyter-core in /Users/yousefnami/python_environments/TEST/lib/python3.7/site-packages (from nbconvert<7,>=5.6->myst-nb~=0.13.1->jupyter-book) (4.9.1)\r\n",
      "Requirement already satisfied: defusedxml in /Users/yousefnami/python_environments/TEST/lib/python3.7/site-packages (from nbconvert<7,>=5.6->myst-nb~=0.13.1->jupyter-book) (0.7.1)\r\n",
      "Requirement already satisfied: bleach in /Users/yousefnami/python_environments/TEST/lib/python3.7/site-packages (from nbconvert<7,>=5.6->myst-nb~=0.13.1->jupyter-book) (4.1.0)\r\n",
      "Requirement already satisfied: entrypoints>=0.2.2 in /Users/yousefnami/python_environments/TEST/lib/python3.7/site-packages (from nbconvert<7,>=5.6->myst-nb~=0.13.1->jupyter-book) (0.3)\r\n",
      "Requirement already satisfied: jupyterlab-pygments in /Users/yousefnami/python_environments/TEST/lib/python3.7/site-packages (from nbconvert<7,>=5.6->myst-nb~=0.13.1->jupyter-book) (0.1.2)\r\n"
     ]
    },
    {
     "name": "stdout",
     "output_type": "stream",
     "text": [
      "Requirement already satisfied: latexcodec>=1.0.4 in /Users/yousefnami/python_environments/TEST/lib/python3.7/site-packages (from pybtex>=0.20->sphinxcontrib-bibtex~=2.2.0->jupyter-book) (2.0.1)\r\n"
     ]
    },
    {
     "name": "stdout",
     "output_type": "stream",
     "text": [
      "Requirement already satisfied: charset-normalizer~=2.0.0 in /Users/yousefnami/python_environments/TEST/lib/python3.7/site-packages (from requests>=2.5.0->sphinx<5,>=3->jupyter-book) (2.0.11)\r\n"
     ]
    },
    {
     "name": "stdout",
     "output_type": "stream",
     "text": [
      "Requirement already satisfied: urllib3<1.27,>=1.21.1 in /Users/yousefnami/python_environments/TEST/lib/python3.7/site-packages (from requests>=2.5.0->sphinx<5,>=3->jupyter-book) (1.26.8)\r\n",
      "Requirement already satisfied: idna<4,>=2.5 in /Users/yousefnami/python_environments/TEST/lib/python3.7/site-packages (from requests>=2.5.0->sphinx<5,>=3->jupyter-book) (3.3)\r\n",
      "Requirement already satisfied: certifi>=2017.4.17 in /Users/yousefnami/python_environments/TEST/lib/python3.7/site-packages (from requests>=2.5.0->sphinx<5,>=3->jupyter-book) (2021.10.8)\r\n"
     ]
    },
    {
     "name": "stdout",
     "output_type": "stream",
     "text": [
      "Requirement already satisfied: pyparsing!=3.0.5,>=2.0.2 in /Users/yousefnami/python_environments/TEST/lib/python3.7/site-packages (from packaging->sphinx<5,>=3->jupyter-book) (3.0.7)\r\n"
     ]
    },
    {
     "name": "stdout",
     "output_type": "stream",
     "text": [
      "Requirement already satisfied: debugpy<2.0,>=1.0.0 in /Users/yousefnami/python_environments/TEST/lib/python3.7/site-packages (from ipykernel>=4.5.1->ipywidgets<8,>=7.0.0->myst-nb~=0.13.1->jupyter-book) (1.5.1)\r\n",
      "Requirement already satisfied: nest-asyncio in /Users/yousefnami/python_environments/TEST/lib/python3.7/site-packages (from ipykernel>=4.5.1->ipywidgets<8,>=7.0.0->myst-nb~=0.13.1->jupyter-book) (1.5.4)\r\n"
     ]
    },
    {
     "name": "stdout",
     "output_type": "stream",
     "text": [
      "Requirement already satisfied: jupyter-client<8.0 in /Users/yousefnami/python_environments/TEST/lib/python3.7/site-packages (from ipykernel>=4.5.1->ipywidgets<8,>=7.0.0->myst-nb~=0.13.1->jupyter-book) (7.1.2)\r\n",
      "Requirement already satisfied: tornado<7.0,>=4.2 in /Users/yousefnami/python_environments/TEST/lib/python3.7/site-packages (from ipykernel>=4.5.1->ipywidgets<8,>=7.0.0->myst-nb~=0.13.1->jupyter-book) (6.1)\r\n",
      "Requirement already satisfied: parso<0.9.0,>=0.8.0 in /Users/yousefnami/python_environments/TEST/lib/python3.7/site-packages (from jedi>=0.16->ipython->myst-nb~=0.13.1->jupyter-book) (0.8.3)\r\n"
     ]
    },
    {
     "name": "stdout",
     "output_type": "stream",
     "text": [
      "Requirement already satisfied: ptyprocess>=0.5 in /Users/yousefnami/python_environments/TEST/lib/python3.7/site-packages (from pexpect>4.3->ipython->myst-nb~=0.13.1->jupyter-book) (0.7.0)\r\n",
      "Requirement already satisfied: wcwidth in /Users/yousefnami/python_environments/TEST/lib/python3.7/site-packages (from prompt-toolkit!=3.0.0,!=3.0.1,<3.1.0,>=2.0.0->ipython->myst-nb~=0.13.1->jupyter-book) (0.2.5)\r\n"
     ]
    },
    {
     "name": "stdout",
     "output_type": "stream",
     "text": [
      "Requirement already satisfied: greenlet!=0.4.17 in /Users/yousefnami/python_environments/TEST/lib/python3.7/site-packages (from sqlalchemy<1.5,>=1.3.12->jupyter-cache~=0.4.1->myst-nb~=0.13.1->jupyter-book) (1.1.2)\r\n"
     ]
    },
    {
     "name": "stdout",
     "output_type": "stream",
     "text": [
      "Requirement already satisfied: notebook>=4.4.1 in /Users/yousefnami/python_environments/TEST/lib/python3.7/site-packages (from widgetsnbextension~=3.5.0->ipywidgets<8,>=7.0.0->myst-nb~=0.13.1->jupyter-book) (6.4.8)\r\n"
     ]
    },
    {
     "name": "stdout",
     "output_type": "stream",
     "text": [
      "Requirement already satisfied: webencodings in /Users/yousefnami/python_environments/TEST/lib/python3.7/site-packages (from bleach->nbconvert<7,>=5.6->myst-nb~=0.13.1->jupyter-book) (0.5.1)\r\n"
     ]
    },
    {
     "name": "stdout",
     "output_type": "stream",
     "text": [
      "Requirement already satisfied: colorama in /Users/yousefnami/python_environments/TEST/lib/python3.7/site-packages (from nbdime->jupyter-cache~=0.4.1->myst-nb~=0.13.1->jupyter-book) (0.4.4)\r\n",
      "Requirement already satisfied: jupyter-server in /Users/yousefnami/python_environments/TEST/lib/python3.7/site-packages (from nbdime->jupyter-cache~=0.4.1->myst-nb~=0.13.1->jupyter-book) (1.13.4)\r\n",
      "Requirement already satisfied: GitPython!=2.1.4,!=2.1.5,!=2.1.6 in /Users/yousefnami/python_environments/TEST/lib/python3.7/site-packages (from nbdime->jupyter-cache~=0.4.1->myst-nb~=0.13.1->jupyter-book) (3.1.26)\r\n",
      "Requirement already satisfied: jupyter-server-mathjax>=0.2.2 in /Users/yousefnami/python_environments/TEST/lib/python3.7/site-packages (from nbdime->jupyter-cache~=0.4.1->myst-nb~=0.13.1->jupyter-book) (0.2.3)\r\n"
     ]
    },
    {
     "name": "stdout",
     "output_type": "stream",
     "text": [
      "Requirement already satisfied: gitdb<5,>=4.0.1 in /Users/yousefnami/python_environments/TEST/lib/python3.7/site-packages (from GitPython!=2.1.4,!=2.1.5,!=2.1.6->nbdime->jupyter-cache~=0.4.1->myst-nb~=0.13.1->jupyter-book) (4.0.9)\r\n"
     ]
    },
    {
     "name": "stdout",
     "output_type": "stream",
     "text": [
      "Requirement already satisfied: pyzmq>=13 in /Users/yousefnami/python_environments/TEST/lib/python3.7/site-packages (from jupyter-client<8.0->ipykernel>=4.5.1->ipywidgets<8,>=7.0.0->myst-nb~=0.13.1->jupyter-book) (22.3.0)\r\n",
      "Requirement already satisfied: python-dateutil>=2.1 in /Users/yousefnami/python_environments/TEST/lib/python3.7/site-packages (from jupyter-client<8.0->ipykernel>=4.5.1->ipywidgets<8,>=7.0.0->myst-nb~=0.13.1->jupyter-book) (2.8.2)\r\n"
     ]
    },
    {
     "name": "stdout",
     "output_type": "stream",
     "text": [
      "Requirement already satisfied: Send2Trash in /Users/yousefnami/python_environments/TEST/lib/python3.7/site-packages (from jupyter-server->nbdime->jupyter-cache~=0.4.1->myst-nb~=0.13.1->jupyter-book) (1.8.0)\r\n",
      "Requirement already satisfied: anyio<4,>=3.1.0 in /Users/yousefnami/python_environments/TEST/lib/python3.7/site-packages (from jupyter-server->nbdime->jupyter-cache~=0.4.1->myst-nb~=0.13.1->jupyter-book) (3.5.0)\r\n",
      "Requirement already satisfied: websocket-client in /Users/yousefnami/python_environments/TEST/lib/python3.7/site-packages (from jupyter-server->nbdime->jupyter-cache~=0.4.1->myst-nb~=0.13.1->jupyter-book) (1.2.3)\r\n",
      "Requirement already satisfied: terminado>=0.8.3 in /Users/yousefnami/python_environments/TEST/lib/python3.7/site-packages (from jupyter-server->nbdime->jupyter-cache~=0.4.1->myst-nb~=0.13.1->jupyter-book) (0.13.1)\r\n",
      "Requirement already satisfied: argon2-cffi in /Users/yousefnami/python_environments/TEST/lib/python3.7/site-packages (from jupyter-server->nbdime->jupyter-cache~=0.4.1->myst-nb~=0.13.1->jupyter-book) (21.3.0)\r\n",
      "Requirement already satisfied: prometheus-client in /Users/yousefnami/python_environments/TEST/lib/python3.7/site-packages (from jupyter-server->nbdime->jupyter-cache~=0.4.1->myst-nb~=0.13.1->jupyter-book) (0.13.1)\r\n"
     ]
    },
    {
     "name": "stdout",
     "output_type": "stream",
     "text": [
      "Requirement already satisfied: sniffio>=1.1 in /Users/yousefnami/python_environments/TEST/lib/python3.7/site-packages (from anyio<4,>=3.1.0->jupyter-server->nbdime->jupyter-cache~=0.4.1->myst-nb~=0.13.1->jupyter-book) (1.2.0)\r\n"
     ]
    },
    {
     "name": "stdout",
     "output_type": "stream",
     "text": [
      "Requirement already satisfied: smmap<6,>=3.0.1 in /Users/yousefnami/python_environments/TEST/lib/python3.7/site-packages (from gitdb<5,>=4.0.1->GitPython!=2.1.4,!=2.1.5,!=2.1.6->nbdime->jupyter-cache~=0.4.1->myst-nb~=0.13.1->jupyter-book) (5.0.0)\r\n"
     ]
    },
    {
     "name": "stdout",
     "output_type": "stream",
     "text": [
      "Requirement already satisfied: argon2-cffi-bindings in /Users/yousefnami/python_environments/TEST/lib/python3.7/site-packages (from argon2-cffi->jupyter-server->nbdime->jupyter-cache~=0.4.1->myst-nb~=0.13.1->jupyter-book) (21.2.0)\r\n"
     ]
    },
    {
     "name": "stdout",
     "output_type": "stream",
     "text": [
      "Requirement already satisfied: cffi>=1.0.1 in /Users/yousefnami/python_environments/TEST/lib/python3.7/site-packages (from argon2-cffi-bindings->argon2-cffi->jupyter-server->nbdime->jupyter-cache~=0.4.1->myst-nb~=0.13.1->jupyter-book) (1.15.0)\r\n",
      "Requirement already satisfied: pycparser in /Users/yousefnami/python_environments/TEST/lib/python3.7/site-packages (from cffi>=1.0.1->argon2-cffi-bindings->argon2-cffi->jupyter-server->nbdime->jupyter-cache~=0.4.1->myst-nb~=0.13.1->jupyter-book) (2.21)\r\n"
     ]
    },
    {
     "name": "stdout",
     "output_type": "stream",
     "text": [
      "\r\n",
      "\u001b[92m===============================================================================\u001b[0m\r\n",
      "\r\n",
      "Your book template can be found at\r\n",
      "\r\n",
      "    your_book_name/\r\n",
      "\r\n",
      "\u001b[92m===============================================================================\u001b[0m\r\n",
      "\r\n"
     ]
    }
   ],
   "source": [
    "# install jupyter-book\n",
    "!pip install jupyter-book\n",
    "\n",
    "# create a book\n",
    "!jupyter-book create your_book_name"
   ]
  },
  {
   "cell_type": "markdown",
   "id": "13f8d970",
   "metadata": {},
   "source": [
    "This creates a book with the name `your_book_name` if your current working directory. You can add any markdown or notebook files in this directory and then modify the `_toc.yml` file to add them to the structure of your book! It's that easy!\n",
    "\n",
    "### Installation using cookiecutter\n",
    "\n",
    "My preferred way of installing `jupyter-book` is through `cookiecutter`. This method comes with extra files that interface with GitHub Actions to enable CI/CD on the project. To install using this method, first make sure you have `cookiecutter` installed:"
   ]
  },
  {
   "cell_type": "code",
   "execution_count": 2,
   "id": "cb7016f8",
   "metadata": {},
   "outputs": [
    {
     "name": "stdout",
     "output_type": "stream",
     "text": [
      "Collecting cookiecutter\r\n"
     ]
    },
    {
     "name": "stdout",
     "output_type": "stream",
     "text": [
      "  Using cached cookiecutter-1.7.3-py2.py3-none-any.whl (34 kB)\r\n",
      "Requirement already satisfied: six>=1.10 in /Users/yousefnami/python_environments/TEST/lib/python3.7/site-packages (from cookiecutter) (1.16.0)\r\n"
     ]
    },
    {
     "name": "stdout",
     "output_type": "stream",
     "text": [
      "Collecting poyo>=0.5.0\r\n",
      "  Using cached poyo-0.5.0-py2.py3-none-any.whl (10 kB)\r\n"
     ]
    },
    {
     "name": "stdout",
     "output_type": "stream",
     "text": [
      "Collecting binaryornot>=0.4.4\r\n",
      "  Using cached binaryornot-0.4.4-py2.py3-none-any.whl (9.0 kB)\r\n"
     ]
    },
    {
     "name": "stdout",
     "output_type": "stream",
     "text": [
      "Collecting python-slugify>=4.0.0\r\n",
      "  Using cached python_slugify-5.0.2-py2.py3-none-any.whl (6.7 kB)\r\n"
     ]
    },
    {
     "name": "stdout",
     "output_type": "stream",
     "text": [
      "Collecting jinja2-time>=0.2.0\r\n",
      "  Using cached jinja2_time-0.2.0-py2.py3-none-any.whl (6.4 kB)\r\n",
      "Requirement already satisfied: Jinja2<4.0.0,>=2.7 in /Users/yousefnami/python_environments/TEST/lib/python3.7/site-packages (from cookiecutter) (3.0.3)\r\n",
      "Requirement already satisfied: click>=7.0 in /Users/yousefnami/python_environments/TEST/lib/python3.7/site-packages (from cookiecutter) (7.1.2)\r\n",
      "Requirement already satisfied: requests>=2.23.0 in /Users/yousefnami/python_environments/TEST/lib/python3.7/site-packages (from cookiecutter) (2.27.1)\r\n"
     ]
    },
    {
     "name": "stdout",
     "output_type": "stream",
     "text": [
      "Collecting chardet>=3.0.2\r\n",
      "  Using cached chardet-4.0.0-py2.py3-none-any.whl (178 kB)\r\n",
      "Requirement already satisfied: MarkupSafe>=2.0 in /Users/yousefnami/python_environments/TEST/lib/python3.7/site-packages (from Jinja2<4.0.0,>=2.7->cookiecutter) (2.0.1)\r\n"
     ]
    },
    {
     "name": "stdout",
     "output_type": "stream",
     "text": [
      "Collecting arrow\r\n",
      "  Using cached arrow-1.2.2-py3-none-any.whl (64 kB)\r\n"
     ]
    },
    {
     "name": "stdout",
     "output_type": "stream",
     "text": [
      "Collecting text-unidecode>=1.3\r\n",
      "  Using cached text_unidecode-1.3-py2.py3-none-any.whl (78 kB)\r\n"
     ]
    },
    {
     "name": "stdout",
     "output_type": "stream",
     "text": [
      "Requirement already satisfied: certifi>=2017.4.17 in /Users/yousefnami/python_environments/TEST/lib/python3.7/site-packages (from requests>=2.23.0->cookiecutter) (2021.10.8)\r\n",
      "Requirement already satisfied: urllib3<1.27,>=1.21.1 in /Users/yousefnami/python_environments/TEST/lib/python3.7/site-packages (from requests>=2.23.0->cookiecutter) (1.26.8)\r\n",
      "Requirement already satisfied: charset-normalizer~=2.0.0 in /Users/yousefnami/python_environments/TEST/lib/python3.7/site-packages (from requests>=2.23.0->cookiecutter) (2.0.11)\r\n",
      "Requirement already satisfied: idna<4,>=2.5 in /Users/yousefnami/python_environments/TEST/lib/python3.7/site-packages (from requests>=2.23.0->cookiecutter) (3.3)\r\n"
     ]
    },
    {
     "name": "stdout",
     "output_type": "stream",
     "text": [
      "Requirement already satisfied: python-dateutil>=2.7.0 in /Users/yousefnami/python_environments/TEST/lib/python3.7/site-packages (from arrow->jinja2-time>=0.2.0->cookiecutter) (2.8.2)\r\n",
      "Requirement already satisfied: typing-extensions in /Users/yousefnami/python_environments/TEST/lib/python3.7/site-packages (from arrow->jinja2-time>=0.2.0->cookiecutter) (4.0.1)\r\n"
     ]
    },
    {
     "name": "stdout",
     "output_type": "stream",
     "text": [
      "Installing collected packages: text-unidecode, python-slugify, poyo, chardet, binaryornot, arrow, jinja2-time, cookiecutter\r\n"
     ]
    },
    {
     "name": "stdout",
     "output_type": "stream",
     "text": [
      "Successfully installed arrow-1.2.2 binaryornot-0.4.4 chardet-4.0.0 cookiecutter-1.7.3 jinja2-time-0.2.0 poyo-0.5.0 python-slugify-5.0.2 text-unidecode-1.3\r\n"
     ]
    }
   ],
   "source": [
    "# install cookiecutter\n",
    "!pip install -U cookiecutter"
   ]
  },
  {
   "cell_type": "markdown",
   "id": "58c568d9",
   "metadata": {},
   "source": [
    "Then, use the following cookiecutter command to download the latest jupyter-book configuration:"
   ]
  },
  {
   "cell_type": "code",
   "execution_count": 3,
   "id": "69c642d9",
   "metadata": {},
   "outputs": [
    {
     "name": "stdout",
     "output_type": "stream",
     "text": [
      "You've downloaded /Users/yousefnami/.cookiecutters/cookiecutter-jupyter-book before. Is it okay to delete and re-download it? [yes]: "
     ]
    },
    {
     "name": "stdout",
     "output_type": "stream",
     "text": [
      "^C\r\n",
      "Aborted!\r\n"
     ]
    }
   ],
   "source": [
    "!cookiecutter git@github.com:executablebooks/cookiecutter-jupyter-book.git"
   ]
  },
  {
   "cell_type": "markdown",
   "id": "34804c5d",
   "metadata": {},
   "source": [
    "This then allows you to add some metadata about your project, such as the title, the author name, the license etc. In particular, I want to bring your attention to `book_slug` and `select include_ci_files`. For the former, it is the name of your project for download purposes, e.g. if you wanted to run `pip install project`. I have not used this feature yet, however I'm mentioning it in case you are interested in learning more about it. See [this](https://github.com/audreyfeldroy/cookiecutter-pypackage/issues/487) GitHub issue for a thread on what a slug is in `cookiecutter`. \n",
    "\n",
    "The more interesting tag is `select include_ci_files`. Selecting 1 will download CI/CD configurations for GitHub (whereas 2 will download that for GitLab). I'll be going through what this does for GitHub."
   ]
  },
  {
   "cell_type": "markdown",
   "id": "93a606e5",
   "metadata": {},
   "source": [
    "### CI/CD files"
   ]
  },
  {
   "cell_type": "markdown",
   "id": "c2bcfc68",
   "metadata": {},
   "source": [
    "### Pushing to GitHub"
   ]
  },
  {
   "cell_type": "markdown",
   "id": "3986830d",
   "metadata": {},
   "source": [
    "### Making Changes"
   ]
  },
  {
   "cell_type": "markdown",
   "id": "172351fa",
   "metadata": {},
   "source": [
    "### Features"
   ]
  },
  {
   "cell_type": "markdown",
   "id": "b2be1586",
   "metadata": {},
   "source": [
    "## Thoughts and Takeaways\n",
    "\n",
    "Personally, I don't usually write my articles from Jupyter Notebooks. I really like the clear split of running expeirments on Jupyter (or usually just Python) and then writing an article with a clear narrative in mind in order to make it appealing to the reader.\n",
    "\n",
    "Thoughts on jupyter_to_medium in general?\n",
    "\n",
    "So going forward, I don't think I'll be using `jupyter_to_medium` much, if at all.\n",
    "\n",
    "On the other hand, `jupyter-book` seems extremely promising. I am quite fond of it so far, and I think I'll start notetaking there as opposed to locally, while slowly starting to migrate my older content.\n"
   ]
  }
 ],
 "metadata": {
  "kernelspec": {
   "display_name": "Python 3",
   "language": "python",
   "name": "python3"
  },
  "language_info": {
   "codemirror_mode": {
    "name": "ipython",
    "version": 3
   },
   "file_extension": ".py",
   "mimetype": "text/x-python",
   "name": "python",
   "nbconvert_exporter": "python",
   "pygments_lexer": "ipython3",
   "version": "3.7.6"
  }
 },
 "nbformat": 4,
 "nbformat_minor": 5
}
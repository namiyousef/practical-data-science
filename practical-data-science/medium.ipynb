{
 "cells": [
  {
   "cell_type": "markdown",
   "id": "fa2bf4e8",
   "metadata": {},
   "source": [
    "# This article was written on Jupyter Notebook\n",
    "## A brief introduction to jupyter-book and jupyter_to_medium"
   ]
  },
  {
   "cell_type": "markdown",
   "id": "a7e11abd",
   "metadata": {},
   "source": [
    "For the longest time, I've kept notes locally on Apple Pages. To that end, I have no complaints. Pages is an amazing piece of software that allows you to quickly produce high quality documents (with really great diagrams and tables) in a fraction of the time it would take on Overleaf, Word or Google Docs.\n",
    "\n",
    "However, there have been a couple of things that have always annoyed me about it:\n",
    "- Versionining is not possible\n",
    "- The documents cannot be easily shared\n",
    "- Documenting code is really hard\n",
    "\n",
    "These aren't unique to Pages either. Word, Docs and Overleaf suffer from the same problems for the most part. None of these tools are great for continuously updating shared notes, creating documentation or incorporating code.\n",
    "\n",
    "The good news is that I've recently learnt how to use two new Python libraries that are going to help me greatly accelerate my notetaking and article writing. These are `jupyter-book` and `jupyter_to_medium`.\n",
    "\n",
    "In this article (which I happen to be writing on a Jupyter Notebook!) I will explain how you can use both tools to accelerate notetaking and writing articles."
   ]
  },
  {
   "cell_type": "markdown",
   "id": "5edbea37",
   "metadata": {},
   "source": [
    "## What is `jupyter_to_medium`?\n",
    "\n",
    "`jupyter_to_medium` is a Python package that allows you to directly deploy your Jupyter Notebook articles to Medium. This is useful if you typically base most of your articles on content from Jupyter Notebooks. I've been curious about this package for a while, but I've only just gotten round to experimenting with it... let's see what it can do! If things go well I may strongly consider using it as the main source of my articles.\n",
    "\n",
    "### Installation\n",
    "\n",
    "### Images\n",
    "\n",
    "### Links\n",
    "\n",
    "### Code"
   ]
  },
  {
   "cell_type": "markdown",
   "id": "557f86b1",
   "metadata": {},
   "source": [
    "## What is `jupyter-book`?\n",
    "\n",
    "\n",
    "### Installation using cookiecutter\n",
    "\n",
    "### Features"
   ]
  },
  {
   "cell_type": "markdown",
   "id": "b2be1586",
   "metadata": {},
   "source": [
    "## Thoughts and Takeaways\n",
    "\n",
    "Personally, I don't usually write my articles from Jupyter Notebooks. I really like the clear split of running expeirments on Jupyter (or usually just Python) and then writing an article with a clear narrative in mind in order to make it appealing to the reader.\n",
    "\n",
    "Thoughts on jupyter_to_medium in general?\n",
    "\n",
    "So going forward, I don't think I'll be using `jupyter_to_medium` much, if at all.\n",
    "\n",
    "On the other hand, `jupyter-book` seems extremely promising. I am quite fond of it so far, and I think I'll start notetaking there as opposed to locally, while slowly starting to migrate my older content.\n"
   ]
  }
 ],
 "metadata": {
  "kernelspec": {
   "display_name": "FinanceCW",
   "language": "python",
   "name": "financecw"
  }
 },
 "nbformat": 4,
 "nbformat_minor": 5
}

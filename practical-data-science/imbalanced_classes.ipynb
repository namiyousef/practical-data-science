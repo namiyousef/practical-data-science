{
 "cells": [
  {
   "cell_type": "markdown",
   "id": "9a1b44fe",
   "metadata": {},
   "source": [
    "# Imbalanced Classification\n",
    "\n",
    "In many real world classification problems, you run into the problem of class imbalance. That is, one of your classes appears much more frequently than the other(s). Examples include: email spam detection, fraud detection, etc. This can be problematic, since your model may learn the data for the class with the higher frequency (Negative), when you are mostly interested in predicting the class with the lower frequency (Positive).\n",
    "\n",
    "Here I describe:\n",
    "- Common pitfalls when dealing with imbalanced data\n",
    "- Methods to synthetically improve datasets for imbalanced classification\n",
    "- Correctly evaluating models on imbalanced datasets"
   ]
  },
  {
   "cell_type": "markdown",
   "id": "db2bc3db",
   "metadata": {},
   "source": [
    "## Common Pitfalls\n",
    "\n",
    "A very common pitfall when dealing with imbalanced datasets is the choice of the metric. Typically, we use accuracy to measure how well our classification tasks perform. However, because we are interested in predicting the positive class, accuracy can be misleading because it prioritises the negative class. This is shown in the schematic below:\n",
    "\n",
    "![class_imb_acc](images/imbalanced_classes/class_imb_acc.png)\n",
    "\n",
    "As such, you need to use a metric that emphasises how correctly you classify the positive classes. Recall and the F-Score can be used for this. As a reminder, they are given by:\n",
    "\n",
    "$$\n",
    "\\text{Recall} = \\frac{TP}{TP+FN}\n",
    "$$\n",
    "\n",
    "$$\n",
    "F_\\beta = (1+\\beta^2)\\frac{\\text{Precision}\\cdot \\text{Recall}}{\\beta^2\\text{Precision} + \\text{Recall}}\n",
    "$$\n",
    "\n",
    "The weight $\\beta$ can be used to control how much emphasis you give to Precision. Precision is defined as: $\\text{Precision}=TP/(TP+FP)$\n",
    "\n",
    "Let's consider the effect this has for different values of $\\beta$.\n",
    "\n",
    "![recall-f-score](images/imbalanced_classes/recall-f-score.png)"
   ]
  },
  {
   "cell_type": "markdown",
   "id": "fd22ab77",
   "metadata": {},
   "source": [
    "## Synthetically Improving Dataset"
   ]
  },
  {
   "cell_type": "markdown",
   "id": "4258716e",
   "metadata": {},
   "source": [
    "## Evaluating Imbalanced Datasets"
   ]
  },
  {
   "cell_type": "markdown",
   "id": "77d70ad3",
   "metadata": {},
   "source": [
    "## Experiments"
   ]
  },
  {
   "cell_type": "code",
   "execution_count": 48,
   "id": "73f9d4a0",
   "metadata": {},
   "outputs": [
    {
     "data": {
      "image/png": "[encoded data removed]",
      "text/plain": [
       "<Figure size 432x288 with 1 Axes>"
      ]
     },
     "metadata": {
      "needs_background": "light"
     },
     "output_type": "display_data"
    }
   ],
   "source": [
    "import matplotlib.pyplot as plt\n",
    "import numpy as np\n",
    "betas = np.linspace(0, 100, 100)\n",
    "\n",
    "y = np.array([0, 1, 0, 0, 1, 0, 0, 0, 0 ,0])\n",
    "y_pred = np.array([0,1, 0,0,0,0,0,0,0,0])\n",
    "\n",
    "def f_score(y, y_pred, beta):\n",
    "    p = precision(y, y_pred)\n",
    "    r = recall(y, y_pred)\n",
    "    beta_2 = beta ** 2\n",
    "    return (1+beta_2) * (r * p) / (beta_2 * p + r)\n",
    "def precision(y, y_pred):\n",
    "    bool_ids = y == y_pred\n",
    "    TP = np.sum(bool_ids[y == 1])\n",
    "    FP = np.sum(~bool_ids[y == 0])\n",
    "    \n",
    "    return TP/(TP+FP)\n",
    "\n",
    "def recall(y, y_pred):\n",
    "    bool_ids = y == y_pred\n",
    "    \n",
    "    TP = np.sum(bool_ids[y == 1])\n",
    "    FN = np.sum(~bool_ids[y == 1])\n",
    "    \n",
    "    return TP/(TP+FN)\n",
    "\n",
    "plt.plot(betas, f_score(y, y_pred, betas))\n",
    "plt.plot(0, 1, 'o', c='orange')\n",
    "plt.xlabel('beta')\n",
    "plt.ylabel('F Score')\n",
    "plt.text(2, 1, \"Precision\")\n",
    "plt.text(70, 0.52, \"Approaches Recall\")\n",
    "plt.savefig('f-score-curve.png', dpi=600)\n",
    "\n",
    "\n",
    "# multiclass recall?"
   ]
  },
  {
   "cell_type": "code",
   "execution_count": null,
   "id": "6574a99b",
   "metadata": {},
   "outputs": [],
   "source": []
  }
 ],
 "metadata": {
  "kernelspec": {
   "display_name": "practical-data-science",
   "language": "python",
   "name": "practical-data-science"
  },
  "language_info": {
   "codemirror_mode": {
    "name": "ipython",
    "version": 3
   },
   "file_extension": ".py",
   "mimetype": "text/x-python",
   "name": "python",
   "nbconvert_exporter": "python",
   "pygments_lexer": "ipython3",
   "version": "3.7.0"
  }
 },
 "nbformat": 4,
 "nbformat_minor": 5
}

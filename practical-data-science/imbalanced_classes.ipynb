{
 "cells": [
  {
   "cell_type": "markdown",
   "id": "71a9386c",
   "metadata": {},
   "source": [
    "# Imbalanced Classification\n",
    "\n",
    "This notebook is about imbalanced classification"
   ]
  }
 ],
 "metadata": {
  "kernelspec": {
   "display_name": "practical-data-science",
   "language": "python",
   "name": "practical-data-science"
  },
  "language_info": {
   "codemirror_mode": {
    "name": "ipython",
    "version": 3
   },
   "file_extension": ".py",
   "mimetype": "text/x-python",
   "name": "python",
   "nbconvert_exporter": "python",
   "pygments_lexer": "ipython3",
   "version": "3.7.0"
  }
 },
 "nbformat": 4,
 "nbformat_minor": 5
}
